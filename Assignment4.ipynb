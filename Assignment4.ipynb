{
 "cells": [
  {
   "cell_type": "code",
   "execution_count": 1,
   "metadata": {},
   "outputs": [
    {
     "name": "stdout",
     "output_type": "stream",
     "text": [
      "importing Jupyter notebook from MyLibrary.ipynb\n"
     ]
    }
   ],
   "source": [
    "import import_ipynb\n",
    "from MyLibrary import*"
   ]
  },
  {
   "cell_type": "code",
   "execution_count": 2,
   "metadata": {},
   "outputs": [
    {
     "name": "stdout",
     "output_type": "stream",
     "text": [
      "Doolittle method gives : \n",
      "[1.0]\n",
      "[-1.0]\n",
      "[1.0]\n",
      "[2.0]\n"
     ]
    }
   ],
   "source": [
    "#1. Use LU decomposition, both Crout’s and Doolittle’s method, to solve for xi’s\n",
    "#and hence compare your answers.\n",
    "A1 = [[1,0,1,2],[0,1,-2,0],[1,2,-1,0],[2,1,3,-2]]\n",
    "B1 = [[6],[-3],[-2],[0]]\n",
    "print(\"Doolittle method gives : \")\n",
    "Display(DEqnSolver(A1,B1))            #it solves equation with doolittle method. You can also give third argument a digit till which you want to round off\n"
   ]
  },
  {
   "cell_type": "code",
   "execution_count": 3,
   "metadata": {},
   "outputs": [
    {
     "name": "stdout",
     "output_type": "stream",
     "text": [
      "Crout method gives : \n",
      "[1.0]\n",
      "[-1.0]\n",
      "[1.0]\n",
      "[2.0]\n"
     ]
    }
   ],
   "source": [
    "A1 = [[1,0,1,2],[0,1,-2,0],[1,2,-1,0],[2,1,3,-2]]\n",
    "B1 = [[6],[-3],[-2],[0]]\n",
    "print(\"Crout method gives : \")\n",
    "Display(CEqnSolver(A1,B1))    #it solves equation with Crout method, here also you can use round off digit"
   ]
  },
  {
   "cell_type": "code",
   "execution_count": 4,
   "metadata": {},
   "outputs": [
    {
     "name": "stdout",
     "output_type": "stream",
     "text": [
      "Inverse matrix is:\n",
      "[-0.25, 1.67, -1.83, 0.33]\n",
      "[0.08, -0.67, 0.83, 0.0]\n",
      "[0.17, -0.33, -0.33, 0.0]\n",
      "[-0.08, 0.67, 0.17, 0.0]\n",
      "verification:\n",
      "[1.0, 0.0, 0.0, 0.0]\n",
      "[0.0, 1.0, 0.0, 0.0]\n",
      "[0.0, 0.0, 1.0, 0.0]\n",
      "[0.0, 0.0, 0.0, 1.0]\n"
     ]
    }
   ],
   "source": [
    "#Check whether the inverse of the following matrix exists. If yes, find the inverse\n",
    "#and verify.\n",
    "Q=[[0,2,8,6],[0,0,1,2],[0,1,0,1],[3,7,1,0]]\n",
    "print(\"Inverse matrix is:\")\n",
    "Display(LUInverse(Q))           #does inverse. optional round off value you can give(default 2) \n",
    "print(\"verification:\")\n",
    "Display(RoundMatrix(MATMULT(Q,LUInverse(Q)),1))   #verification\n"
   ]
  },
  {
   "cell_type": "code",
   "execution_count": 5,
   "metadata": {},
   "outputs": [
    {
     "name": "stdout",
     "output_type": "stream",
     "text": [
      "[0.1]\n",
      "[0.2]\n",
      "[0.3]\n",
      "[0.4]\n"
     ]
    }
   ],
   "source": [
    "#Use Cholesky decomposition to solve the equation A · x = b where,\n",
    "A3=[[10,1,0,2.5],[1,12,-0.3,1.1],[0,-.3,9.5,0],[2.5,1.1,0,6.0]] \n",
    "B3=[[2.20],[2.85],[2.79],[2.87]]\n",
    "Display(CholEqnSolver(A3,B3))          #solves equation using cholesky method"
   ]
  },
  {
   "cell_type": "code",
   "execution_count": null,
   "metadata": {},
   "outputs": [],
   "source": []
  }
 ],
 "metadata": {
  "kernelspec": {
   "display_name": "Python 3",
   "language": "python",
   "name": "python3"
  },
  "language_info": {
   "codemirror_mode": {
    "name": "ipython",
    "version": 3
   },
   "file_extension": ".py",
   "mimetype": "text/x-python",
   "name": "python",
   "nbconvert_exporter": "python",
   "pygments_lexer": "ipython3",
   "version": "3.7.6"
  }
 },
 "nbformat": 4,
 "nbformat_minor": 4
}
